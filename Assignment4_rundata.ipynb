{
 "cells": [
  {
   "cell_type": "code",
   "execution_count": 1,
   "metadata": {},
   "outputs": [],
   "source": [
    "# Importing libraries into python\n",
    "import pandas as pd\n",
    "import numpy as np\n",
    "import seaborn as sns\n",
    "import matplotlib.pyplot as plt"
   ]
  },
  {
   "cell_type": "code",
   "execution_count": 2,
   "metadata": {},
   "outputs": [],
   "source": [
    "import tensorflow as tf\n",
    "from tensorflow import keras"
   ]
  },
  {
   "cell_type": "code",
   "execution_count": 3,
   "metadata": {},
   "outputs": [],
   "source": [
    "from tensorflow.keras.models import Sequential\n",
    "from tensorflow.keras import regularizers\n",
    "from tensorflow.keras.layers import Dense, Activation, Flatten\n",
    "from tensorflow.keras.optimizers import SGD, Adam\n"
   ]
  },
  {
   "cell_type": "code",
   "execution_count": 4,
   "metadata": {},
   "outputs": [],
   "source": [
    "# Importing from sklearn\n",
    "from sklearn import preprocessing\n",
    "from sklearn.preprocessing import StandardScaler\n",
    "from sklearn.preprocessing import LabelEncoder\n",
    "from sklearn.preprocessing import StandardScaler\n",
    "from sklearn.model_selection import cross_validate\n",
    "from sklearn.model_selection import train_test_split\n",
    "from sklearn.decomposition import PCA\n",
    "from sklearn.decomposition import FastICA\n",
    "from sklearn.cluster import KMeans\n",
    "from sklearn.random_projection import GaussianRandomProjection\n",
    "from sklearn.model_selection import cross_val_predict, cross_val_score\n",
    "from sklearn.mixture import GaussianMixture\n",
    "from sklearn.metrics import confusion_matrix,classification_report,accuracy_score\n",
    "from sklearn.feature_selection import SelectFromModel\n",
    "from sklearn.ensemble import ExtraTreesClassifier\n",
    "from sklearn.ensemble import RandomForestRegressor, RandomForestClassifier  \n",
    "from sklearn.metrics import roc_auc_score\n",
    "from sklearn import metrics"
   ]
  },
  {
   "cell_type": "code",
   "execution_count": 5,
   "metadata": {},
   "outputs": [],
   "source": [
    "import statistics\n",
    "import math"
   ]
  },
  {
   "cell_type": "code",
   "execution_count": 6,
   "metadata": {},
   "outputs": [
    {
     "data": {
      "text/html": [
       "<div>\n",
       "<style scoped>\n",
       "    .dataframe tbody tr th:only-of-type {\n",
       "        vertical-align: middle;\n",
       "    }\n",
       "\n",
       "    .dataframe tbody tr th {\n",
       "        vertical-align: top;\n",
       "    }\n",
       "\n",
       "    .dataframe thead th {\n",
       "        text-align: right;\n",
       "    }\n",
       "</style>\n",
       "<table border=\"1\" class=\"dataframe\">\n",
       "  <thead>\n",
       "    <tr style=\"text-align: right;\">\n",
       "      <th></th>\n",
       "      <th>MWG</th>\n",
       "      <th>NWG</th>\n",
       "      <th>KWG</th>\n",
       "      <th>MDIMC</th>\n",
       "      <th>NDIMC</th>\n",
       "      <th>MDIMA</th>\n",
       "      <th>NDIMB</th>\n",
       "      <th>KWI</th>\n",
       "      <th>VWM</th>\n",
       "      <th>VWN</th>\n",
       "      <th>STRM</th>\n",
       "      <th>STRN</th>\n",
       "      <th>SA</th>\n",
       "      <th>SB</th>\n",
       "      <th>log_run</th>\n",
       "    </tr>\n",
       "  </thead>\n",
       "  <tbody>\n",
       "    <tr>\n",
       "      <td>0</td>\n",
       "      <td>16</td>\n",
       "      <td>16</td>\n",
       "      <td>16</td>\n",
       "      <td>8</td>\n",
       "      <td>8</td>\n",
       "      <td>8</td>\n",
       "      <td>8</td>\n",
       "      <td>2</td>\n",
       "      <td>1</td>\n",
       "      <td>1</td>\n",
       "      <td>0</td>\n",
       "      <td>0</td>\n",
       "      <td>0</td>\n",
       "      <td>0</td>\n",
       "      <td>1.0</td>\n",
       "    </tr>\n",
       "    <tr>\n",
       "      <td>1</td>\n",
       "      <td>16</td>\n",
       "      <td>16</td>\n",
       "      <td>16</td>\n",
       "      <td>8</td>\n",
       "      <td>8</td>\n",
       "      <td>8</td>\n",
       "      <td>8</td>\n",
       "      <td>2</td>\n",
       "      <td>1</td>\n",
       "      <td>1</td>\n",
       "      <td>0</td>\n",
       "      <td>0</td>\n",
       "      <td>0</td>\n",
       "      <td>1</td>\n",
       "      <td>1.0</td>\n",
       "    </tr>\n",
       "    <tr>\n",
       "      <td>2</td>\n",
       "      <td>16</td>\n",
       "      <td>16</td>\n",
       "      <td>16</td>\n",
       "      <td>8</td>\n",
       "      <td>8</td>\n",
       "      <td>8</td>\n",
       "      <td>8</td>\n",
       "      <td>2</td>\n",
       "      <td>1</td>\n",
       "      <td>1</td>\n",
       "      <td>0</td>\n",
       "      <td>0</td>\n",
       "      <td>1</td>\n",
       "      <td>0</td>\n",
       "      <td>1.0</td>\n",
       "    </tr>\n",
       "    <tr>\n",
       "      <td>3</td>\n",
       "      <td>16</td>\n",
       "      <td>16</td>\n",
       "      <td>16</td>\n",
       "      <td>8</td>\n",
       "      <td>8</td>\n",
       "      <td>8</td>\n",
       "      <td>8</td>\n",
       "      <td>2</td>\n",
       "      <td>1</td>\n",
       "      <td>1</td>\n",
       "      <td>0</td>\n",
       "      <td>0</td>\n",
       "      <td>1</td>\n",
       "      <td>1</td>\n",
       "      <td>1.0</td>\n",
       "    </tr>\n",
       "    <tr>\n",
       "      <td>4</td>\n",
       "      <td>16</td>\n",
       "      <td>16</td>\n",
       "      <td>16</td>\n",
       "      <td>8</td>\n",
       "      <td>8</td>\n",
       "      <td>8</td>\n",
       "      <td>8</td>\n",
       "      <td>2</td>\n",
       "      <td>1</td>\n",
       "      <td>1</td>\n",
       "      <td>0</td>\n",
       "      <td>1</td>\n",
       "      <td>0</td>\n",
       "      <td>0</td>\n",
       "      <td>1.0</td>\n",
       "    </tr>\n",
       "    <tr>\n",
       "      <td>...</td>\n",
       "      <td>...</td>\n",
       "      <td>...</td>\n",
       "      <td>...</td>\n",
       "      <td>...</td>\n",
       "      <td>...</td>\n",
       "      <td>...</td>\n",
       "      <td>...</td>\n",
       "      <td>...</td>\n",
       "      <td>...</td>\n",
       "      <td>...</td>\n",
       "      <td>...</td>\n",
       "      <td>...</td>\n",
       "      <td>...</td>\n",
       "      <td>...</td>\n",
       "      <td>...</td>\n",
       "    </tr>\n",
       "    <tr>\n",
       "      <td>241595</td>\n",
       "      <td>128</td>\n",
       "      <td>128</td>\n",
       "      <td>32</td>\n",
       "      <td>32</td>\n",
       "      <td>32</td>\n",
       "      <td>32</td>\n",
       "      <td>32</td>\n",
       "      <td>8</td>\n",
       "      <td>4</td>\n",
       "      <td>4</td>\n",
       "      <td>1</td>\n",
       "      <td>0</td>\n",
       "      <td>1</td>\n",
       "      <td>1</td>\n",
       "      <td>0.0</td>\n",
       "    </tr>\n",
       "    <tr>\n",
       "      <td>241596</td>\n",
       "      <td>128</td>\n",
       "      <td>128</td>\n",
       "      <td>32</td>\n",
       "      <td>32</td>\n",
       "      <td>32</td>\n",
       "      <td>32</td>\n",
       "      <td>32</td>\n",
       "      <td>8</td>\n",
       "      <td>4</td>\n",
       "      <td>4</td>\n",
       "      <td>1</td>\n",
       "      <td>1</td>\n",
       "      <td>0</td>\n",
       "      <td>0</td>\n",
       "      <td>0.0</td>\n",
       "    </tr>\n",
       "    <tr>\n",
       "      <td>241597</td>\n",
       "      <td>128</td>\n",
       "      <td>128</td>\n",
       "      <td>32</td>\n",
       "      <td>32</td>\n",
       "      <td>32</td>\n",
       "      <td>32</td>\n",
       "      <td>32</td>\n",
       "      <td>8</td>\n",
       "      <td>4</td>\n",
       "      <td>4</td>\n",
       "      <td>1</td>\n",
       "      <td>1</td>\n",
       "      <td>0</td>\n",
       "      <td>1</td>\n",
       "      <td>0.0</td>\n",
       "    </tr>\n",
       "    <tr>\n",
       "      <td>241598</td>\n",
       "      <td>128</td>\n",
       "      <td>128</td>\n",
       "      <td>32</td>\n",
       "      <td>32</td>\n",
       "      <td>32</td>\n",
       "      <td>32</td>\n",
       "      <td>32</td>\n",
       "      <td>8</td>\n",
       "      <td>4</td>\n",
       "      <td>4</td>\n",
       "      <td>1</td>\n",
       "      <td>1</td>\n",
       "      <td>1</td>\n",
       "      <td>0</td>\n",
       "      <td>0.0</td>\n",
       "    </tr>\n",
       "    <tr>\n",
       "      <td>241599</td>\n",
       "      <td>128</td>\n",
       "      <td>128</td>\n",
       "      <td>32</td>\n",
       "      <td>32</td>\n",
       "      <td>32</td>\n",
       "      <td>32</td>\n",
       "      <td>32</td>\n",
       "      <td>8</td>\n",
       "      <td>4</td>\n",
       "      <td>4</td>\n",
       "      <td>1</td>\n",
       "      <td>1</td>\n",
       "      <td>1</td>\n",
       "      <td>1</td>\n",
       "      <td>0.0</td>\n",
       "    </tr>\n",
       "  </tbody>\n",
       "</table>\n",
       "<p>241600 rows × 15 columns</p>\n",
       "</div>"
      ],
      "text/plain": [
       "        MWG  NWG  KWG  MDIMC  NDIMC  MDIMA  NDIMB  KWI  VWM  VWN  STRM  STRN  \\\n",
       "0        16   16   16      8      8      8      8    2    1    1     0     0   \n",
       "1        16   16   16      8      8      8      8    2    1    1     0     0   \n",
       "2        16   16   16      8      8      8      8    2    1    1     0     0   \n",
       "3        16   16   16      8      8      8      8    2    1    1     0     0   \n",
       "4        16   16   16      8      8      8      8    2    1    1     0     1   \n",
       "...     ...  ...  ...    ...    ...    ...    ...  ...  ...  ...   ...   ...   \n",
       "241595  128  128   32     32     32     32     32    8    4    4     1     0   \n",
       "241596  128  128   32     32     32     32     32    8    4    4     1     1   \n",
       "241597  128  128   32     32     32     32     32    8    4    4     1     1   \n",
       "241598  128  128   32     32     32     32     32    8    4    4     1     1   \n",
       "241599  128  128   32     32     32     32     32    8    4    4     1     1   \n",
       "\n",
       "        SA  SB  log_run  \n",
       "0        0   0      1.0  \n",
       "1        0   1      1.0  \n",
       "2        1   0      1.0  \n",
       "3        1   1      1.0  \n",
       "4        0   0      1.0  \n",
       "...     ..  ..      ...  \n",
       "241595   1   1      0.0  \n",
       "241596   0   0      0.0  \n",
       "241597   0   1      0.0  \n",
       "241598   1   0      0.0  \n",
       "241599   1   1      0.0  \n",
       "\n",
       "[241600 rows x 15 columns]"
      ]
     },
     "execution_count": 6,
     "metadata": {},
     "output_type": "execute_result"
    }
   ],
   "source": [
    "run = pd.read_csv(\"sgemm_product.csv\",index_col=False)\n",
    "run[\"runavg (ms)\"] = (run[\"Run1 (ms)\"]+run[\"Run2 (ms)\"]+run[\"Run3 (ms)\"]+run[\"Run4 (ms)\"])/4\n",
    "run[\"log_run\"] = np.where(run['runavg (ms)']>statistics.median(run[\"runavg (ms)\"]), 1.0, 0.0)\n",
    "run=run.drop([\"runavg (ms)\", \"Run1 (ms)\",\"Run2 (ms)\",\"Run3 (ms)\",\"Run4 (ms)\"],axis=1)\n",
    "run\n"
   ]
  },
  {
   "cell_type": "code",
   "execution_count": 7,
   "metadata": {},
   "outputs": [],
   "source": [
    "x= run.iloc[:,:14]\n",
    "y=run.iloc[:,-1]\n",
    "x_train, x_test, y_train, y_test = train_test_split(x, y, test_size=0.3, random_state=1)\n"
   ]
  },
  {
   "cell_type": "code",
   "execution_count": 8,
   "metadata": {},
   "outputs": [
    {
     "name": "stdout",
     "output_type": "stream",
     "text": [
      "(169120, 14)\n",
      "(72480, 14)\n",
      "(169120,)\n",
      "(72480,)\n"
     ]
    }
   ],
   "source": [
    "print(x_train.shape)\n",
    "print(x_test.shape)\n",
    "print(y_train.shape)\n",
    "print(y_test.shape)"
   ]
  },
  {
   "cell_type": "code",
   "execution_count": 9,
   "metadata": {},
   "outputs": [],
   "source": [
    "# Creating a copy of the train and the test variables to perform scaling\n",
    "scal_x_train = x_train.copy(deep=True)\n",
    "scal_x_test = x_test.copy(deep=True)"
   ]
  },
  {
   "cell_type": "code",
   "execution_count": 10,
   "metadata": {},
   "outputs": [],
   "source": [
    "scaler = preprocessing.StandardScaler()"
   ]
  },
  {
   "cell_type": "code",
   "execution_count": 11,
   "metadata": {},
   "outputs": [
    {
     "data": {
      "text/plain": [
       "array([[-0.38917966, -0.3866653 ,  0.82420294, ..., -1.00057964,\n",
       "        -0.9994207 ,  0.999598  ],\n",
       "       [ 1.11765278,  1.12118517, -1.21329342, ...,  0.9994207 ,\n",
       "         1.00057964,  0.999598  ],\n",
       "       [ 1.11765278,  1.12118517, -1.21329342, ...,  0.9994207 ,\n",
       "        -0.9994207 , -1.00040216],\n",
       "       ...,\n",
       "       [ 1.11765278,  1.12118517, -1.21329342, ...,  0.9994207 ,\n",
       "        -0.9994207 , -1.00040216],\n",
       "       [ 1.11765278,  1.12118517,  0.82420294, ..., -1.00057964,\n",
       "         1.00057964,  0.999598  ],\n",
       "       [-0.38917966,  1.12118517,  0.82420294, ...,  0.9994207 ,\n",
       "        -0.9994207 ,  0.999598  ]])"
      ]
     },
     "execution_count": 11,
     "metadata": {},
     "output_type": "execute_result"
    }
   ],
   "source": [
    "# Scaling x_train with x_train parameters\n",
    "scaler.fit_transform(scal_x_train)"
   ]
  },
  {
   "cell_type": "code",
   "execution_count": 12,
   "metadata": {},
   "outputs": [
    {
     "data": {
      "text/plain": [
       "array([[-0.3803382 , -0.38619742,  0.82941947, ..., -0.99864882,\n",
       "        -1.00135301, -0.99906225],\n",
       "       [-0.3803382 ,  1.11874696,  0.82941947, ..., -0.99864882,\n",
       "        -1.00135301,  1.00093863],\n",
       "       [-0.3803382 ,  1.11874696,  0.82941947, ..., -0.99864882,\n",
       "        -1.00135301,  1.00093863],\n",
       "       ...,\n",
       "       [ 1.12701832, -0.38619742,  0.82941947, ..., -0.99864882,\n",
       "        -1.00135301,  1.00093863],\n",
       "       [-1.13401646,  1.11874696,  0.82941947, ..., -0.99864882,\n",
       "         0.99864882,  1.00093863],\n",
       "       [ 1.12701832, -0.38619742,  0.82941947, ..., -0.99864882,\n",
       "        -1.00135301, -0.99906225]])"
      ]
     },
     "execution_count": 12,
     "metadata": {},
     "output_type": "execute_result"
    }
   ],
   "source": [
    "# Scaling x_test with x_test parameters\n",
    "scaler.fit_transform(scal_x_test)"
   ]
  },
  {
   "cell_type": "code",
   "execution_count": 13,
   "metadata": {},
   "outputs": [
    {
     "data": {
      "text/plain": [
       "KMeans(algorithm='auto', copy_x=True, init='k-means++', max_iter=300,\n",
       "       n_clusters=2, n_init=10, n_jobs=None, precompute_distances='auto',\n",
       "       random_state=50, tol=0.0001, verbose=0)"
      ]
     },
     "execution_count": 13,
     "metadata": {},
     "output_type": "execute_result"
    }
   ],
   "source": [
    "#Kmeans\n",
    "model_kmeans = KMeans(n_clusters = 2, random_state = 50)\n",
    "model_kmeans.fit(scal_x_train)"
   ]
  },
  {
   "cell_type": "code",
   "execution_count": 14,
   "metadata": {},
   "outputs": [
    {
     "name": "stdout",
     "output_type": "stream",
     "text": [
      "30.164971617786186\n",
      "[[18251 66266]\n",
      " [51839 32764]]\n"
     ]
    }
   ],
   "source": [
    "predictions = model_kmeans.predict(scal_x_train)\n",
    "print(accuracy_score(y_train, predictions)*100)\n",
    "print(confusion_matrix(y_train,predictions))"
   ]
  },
  {
   "cell_type": "code",
   "execution_count": 15,
   "metadata": {},
   "outputs": [
    {
     "data": {
      "text/plain": [
       "<matplotlib.axes._subplots.AxesSubplot at 0x1b7d73693c8>"
      ]
     },
     "execution_count": 15,
     "metadata": {},
     "output_type": "execute_result"
    },
    {
     "data": {
      "image/png": "[encoded data removed]",
      "text/plain": [
       "<Figure size 432x288 with 2 Axes>"
      ]
     },
     "metadata": {
      "needs_background": "light"
     },
     "output_type": "display_data"
    }
   ],
   "source": [
    "## Heatmap for the above shown confusion matrix\n",
    "sns.heatmap(pd.DataFrame(confusion_matrix(y_train,predictions)),annot=True,fmt=\"g\", cmap='viridis')"
   ]
  },
  {
   "cell_type": "code",
   "execution_count": 16,
   "metadata": {},
   "outputs": [
    {
     "name": "stdout",
     "output_type": "stream",
     "text": [
      "30.137969094922738\n",
      "[[ 7683 28601]\n",
      " [22035 14161]]\n"
     ]
    }
   ],
   "source": [
    "predictions_test = model_kmeans.predict(scal_x_test)\n",
    "print(accuracy_score(y_test, predictions_test)*100)\n",
    "print(confusion_matrix(y_test,predictions_test))"
   ]
  },
  {
   "cell_type": "code",
   "execution_count": 17,
   "metadata": {},
   "outputs": [
    {
     "data": {
      "text/plain": [
       "<matplotlib.axes._subplots.AxesSubplot at 0x1b7d7732308>"
      ]
     },
     "execution_count": 17,
     "metadata": {},
     "output_type": "execute_result"
    },
    {
     "data": {
      "image/png": "[encoded data removed]",
      "text/plain": [
       "<Figure size 432x288 with 2 Axes>"
      ]
     },
     "metadata": {
      "needs_background": "light"
     },
     "output_type": "display_data"
    }
   ],
   "source": [
    "#Heatmap for the above shown confusion matrix\n",
    "sns.heatmap(pd.DataFrame(confusion_matrix(y_test,predictions_test)),annot=True,fmt=\"g\", cmap='viridis')"
   ]
  },
  {
   "cell_type": "code",
   "execution_count": 18,
   "metadata": {},
   "outputs": [],
   "source": [
    "#Running Iterations for different values of K ##\n",
    "sum_square_distance = []\n",
    "K = range(1,15)\n",
    "for k in K:\n",
    "    kmeans = KMeans(n_clusters = k)\n",
    "    kmeans = kmeans.fit(scal_x_train)\n",
    "    sum_square_distance.append(kmeans.inertia_)"
   ]
  },
  {
   "cell_type": "code",
   "execution_count": 19,
   "metadata": {},
   "outputs": [
    {
     "data": {
      "text/plain": [
       "[<matplotlib.lines.Line2D at 0x1b7d802c488>]"
      ]
     },
     "execution_count": 19,
     "metadata": {},
     "output_type": "execute_result"
    },
    {
     "data": {
      "image/png": "[encoded data removed]",
      "text/plain": [
       "<Figure size 1008x720 with 1 Axes>"
      ]
     },
     "metadata": {
      "needs_background": "light"
     },
     "output_type": "display_data"
    }
   ],
   "source": [
    "plt.figure(figsize=(14,10))\n",
    "plt.title(\"Elbow Method for Optimal K\")\n",
    "plt.xlabel(\"K values\")\n",
    "plt.ylabel(\"Sum Squared Distances\")\n",
    "plt.plot(K, sum_square_distance, color = 'red', linestyle = 'dashed')\n"
   ]
  },
  {
   "cell_type": "code",
   "execution_count": 20,
   "metadata": {},
   "outputs": [
    {
     "name": "stdout",
     "output_type": "stream",
     "text": [
      "37.38\n",
      "[[24216 60301]\n",
      " [45596 39007]]\n"
     ]
    }
   ],
   "source": [
    "#Gaussian \n",
    "Gauss = GaussianMixture(n_components=2,random_state=2)\n",
    "Gauss.fit(scal_x_train)\n",
    "\n",
    "# Prediction using the train parameters\n",
    "prediction_gmm = Gauss.predict(scal_x_train)\n",
    "probability = Gauss.predict_proba(scal_x_train)\n",
    "acc_gmm= round(100*accuracy_score(y_train,prediction_gmm),2)\n",
    "print(acc_gmm)\n",
    "print(confusion_matrix(y_train,prediction_gmm))"
   ]
  },
  {
   "cell_type": "code",
   "execution_count": 21,
   "metadata": {},
   "outputs": [
    {
     "data": {
      "text/plain": [
       "<matplotlib.axes._subplots.AxesSubplot at 0x1b7d808df08>"
      ]
     },
     "execution_count": 21,
     "metadata": {},
     "output_type": "execute_result"
    },
    {
     "data": {
      "image/png": "[encoded data removed]",
      "text/plain": [
       "<Figure size 432x288 with 2 Axes>"
      ]
     },
     "metadata": {
      "needs_background": "light"
     },
     "output_type": "display_data"
    }
   ],
   "source": [
    "## Heatmap for the above shown confusion matrix\n",
    "sns.heatmap(pd.DataFrame(confusion_matrix(y_train,prediction_gmm)),annot=True,fmt=\"g\", cmap='viridis')"
   ]
  },
  {
   "cell_type": "code",
   "execution_count": 22,
   "metadata": {},
   "outputs": [
    {
     "name": "stdout",
     "output_type": "stream",
     "text": [
      "37.7\n",
      "[[10564 25720]\n",
      " [19432 16764]]\n"
     ]
    }
   ],
   "source": [
    "# Prediction using the test parameters\n",
    "prediction_gmm_test = Gauss.predict(scal_x_test)\n",
    "acc_gmm= round(100*accuracy_score(y_test,prediction_gmm_test),2)\n",
    "print(acc_gmm)\n",
    "print(confusion_matrix(y_test,prediction_gmm_test))"
   ]
  },
  {
   "cell_type": "code",
   "execution_count": 23,
   "metadata": {},
   "outputs": [
    {
     "data": {
      "text/plain": [
       "<matplotlib.axes._subplots.AxesSubplot at 0x1b7d814ba08>"
      ]
     },
     "execution_count": 23,
     "metadata": {},
     "output_type": "execute_result"
    },
    {
     "data": {
      "image/png": "[encoded data removed]",
      "text/plain": [
       "<Figure size 432x288 with 2 Axes>"
      ]
     },
     "metadata": {
      "needs_background": "light"
     },
     "output_type": "display_data"
    }
   ],
   "source": [
    "## Heatmap for the above shown confusion matrix\n",
    "sns.heatmap(pd.DataFrame(confusion_matrix(y_test,prediction_gmm_test)),annot=True,fmt=\"g\", cmap='viridis')"
   ]
  },
  {
   "cell_type": "code",
   "execution_count": 24,
   "metadata": {},
   "outputs": [],
   "source": [
    "def GMM_def(X_train, n = 2):\n",
    "    Gauss1 = GaussianMixture(n_components=n,random_state=2)\n",
    "    Gauss1.fit(X_train)\n",
    "    predictions1 = Gauss1.predict(X_train)\n",
    "    return round(100*accuracy_score(y_train,predictions1),2), predictions1"
   ]
  },
  {
   "cell_type": "code",
   "execution_count": 25,
   "metadata": {},
   "outputs": [
    {
     "data": {
      "text/plain": [
       "array([[ 64,  64,   8,  16],\n",
       "       [128, 128,  16,   8],\n",
       "       [128, 128,  16,   8],\n",
       "       ...,\n",
       "       [128, 128,   8,  32],\n",
       "       [128, 128,  16,   8],\n",
       "       [ 64, 128,   8,  16]], dtype=int64)"
      ]
     },
     "execution_count": 25,
     "metadata": {},
     "output_type": "execute_result"
    }
   ],
   "source": [
    "## Feature Selection using Decision Trees ##\n",
    "estimator = ExtraTreesClassifier(n_estimators = 10)\n",
    "featureSelection = SelectFromModel(estimator)\n",
    "featureSelection.fit(scal_x_train, y_train)\n",
    "selectedFeatures = featureSelection.transform(scal_x_train)\n",
    "selectedFeatures"
   ]
  },
  {
   "cell_type": "code",
   "execution_count": 26,
   "metadata": {},
   "outputs": [
    {
     "data": {
      "text/plain": [
       "Index(['MWG', 'NWG', 'MDIMC', 'NDIMC'], dtype='object')"
      ]
     },
     "execution_count": 26,
     "metadata": {},
     "output_type": "execute_result"
    }
   ],
   "source": [
    "x_train.columns[featureSelection.get_support()]"
   ]
  },
  {
   "cell_type": "code",
   "execution_count": 27,
   "metadata": {},
   "outputs": [],
   "source": [
    "#Building the model using the above given features.\n",
    "feature_selected_x_train = scal_x_train.loc[:,['MWG', 'NWG', 'MDIMC', 'NDIMC']]"
   ]
  },
  {
   "cell_type": "code",
   "execution_count": 28,
   "metadata": {},
   "outputs": [
    {
     "data": {
      "text/html": [
       "<div>\n",
       "<style scoped>\n",
       "    .dataframe tbody tr th:only-of-type {\n",
       "        vertical-align: middle;\n",
       "    }\n",
       "\n",
       "    .dataframe tbody tr th {\n",
       "        vertical-align: top;\n",
       "    }\n",
       "\n",
       "    .dataframe thead th {\n",
       "        text-align: right;\n",
       "    }\n",
       "</style>\n",
       "<table border=\"1\" class=\"dataframe\">\n",
       "  <thead>\n",
       "    <tr style=\"text-align: right;\">\n",
       "      <th></th>\n",
       "      <th>MWG</th>\n",
       "      <th>NWG</th>\n",
       "      <th>MDIMC</th>\n",
       "      <th>NDIMC</th>\n",
       "    </tr>\n",
       "  </thead>\n",
       "  <tbody>\n",
       "    <tr>\n",
       "      <td>99545</td>\n",
       "      <td>64</td>\n",
       "      <td>64</td>\n",
       "      <td>8</td>\n",
       "      <td>16</td>\n",
       "    </tr>\n",
       "    <tr>\n",
       "      <td>212039</td>\n",
       "      <td>128</td>\n",
       "      <td>128</td>\n",
       "      <td>16</td>\n",
       "      <td>8</td>\n",
       "    </tr>\n",
       "    <tr>\n",
       "      <td>210460</td>\n",
       "      <td>128</td>\n",
       "      <td>128</td>\n",
       "      <td>16</td>\n",
       "      <td>8</td>\n",
       "    </tr>\n",
       "    <tr>\n",
       "      <td>223572</td>\n",
       "      <td>128</td>\n",
       "      <td>128</td>\n",
       "      <td>8</td>\n",
       "      <td>16</td>\n",
       "    </tr>\n",
       "    <tr>\n",
       "      <td>100607</td>\n",
       "      <td>64</td>\n",
       "      <td>64</td>\n",
       "      <td>8</td>\n",
       "      <td>16</td>\n",
       "    </tr>\n",
       "  </tbody>\n",
       "</table>\n",
       "</div>"
      ],
      "text/plain": [
       "        MWG  NWG  MDIMC  NDIMC\n",
       "99545    64   64      8     16\n",
       "212039  128  128     16      8\n",
       "210460  128  128     16      8\n",
       "223572  128  128      8     16\n",
       "100607   64   64      8     16"
      ]
     },
     "execution_count": 28,
     "metadata": {},
     "output_type": "execute_result"
    }
   ],
   "source": [
    "feature_selected_x_train.head()"
   ]
  },
  {
   "cell_type": "code",
   "execution_count": 29,
   "metadata": {},
   "outputs": [],
   "source": [
    "feature_selected_x_test = x_test.loc[:,['MWG', 'NWG', 'MDIMC', 'NDIMC']]"
   ]
  },
  {
   "cell_type": "code",
   "execution_count": 30,
   "metadata": {},
   "outputs": [
    {
     "data": {
      "text/plain": [
       "KMeans(algorithm='auto', copy_x=True, init='k-means++', max_iter=300,\n",
       "       n_clusters=2, n_init=10, n_jobs=None, precompute_distances='auto',\n",
       "       random_state=50, tol=0.0001, verbose=0)"
      ]
     },
     "execution_count": 30,
     "metadata": {},
     "output_type": "execute_result"
    }
   ],
   "source": [
    "model_feature = KMeans(n_clusters=2, random_state=50)\n",
    "model_feature.fit(feature_selected_x_train)"
   ]
  },
  {
   "cell_type": "code",
   "execution_count": 31,
   "metadata": {},
   "outputs": [
    {
     "name": "stdout",
     "output_type": "stream",
     "text": [
      "69.83502838221382\n",
      "69.86203090507726\n"
     ]
    }
   ],
   "source": [
    "# VALIDATION\n",
    "prediction_feature_valid = model_feature.predict(feature_selected_x_train)\n",
    "valid_feature = accuracy_score(y_train, prediction_feature_valid)\n",
    "print(accuracy_score(y_train, prediction_feature_valid)*100)\n",
    "# TEST RESULTS\n",
    "prediction_feature_test = model_feature.predict(feature_selected_x_test)\n",
    "test_feature = accuracy_score(y_test, prediction_feature_test)\n",
    "print(accuracy_score(y_test, prediction_feature_test)*100)"
   ]
  },
  {
   "cell_type": "code",
   "execution_count": 32,
   "metadata": {},
   "outputs": [
    {
     "name": "stdout",
     "output_type": "stream",
     "text": [
      "[[66266 18251]\n",
      " [32764 51839]]\n"
     ]
    }
   ],
   "source": [
    "print(confusion_matrix(y_train,prediction_feature_valid))"
   ]
  },
  {
   "cell_type": "code",
   "execution_count": 33,
   "metadata": {},
   "outputs": [
    {
     "data": {
      "text/plain": [
       "<matplotlib.axes._subplots.AxesSubplot at 0x1b7d813b648>"
      ]
     },
     "execution_count": 33,
     "metadata": {},
     "output_type": "execute_result"
    },
    {
     "data": {
      "image/png": "[encoded data removed]",
      "text/plain": [
       "<Figure size 432x288 with 2 Axes>"
      ]
     },
     "metadata": {
      "needs_background": "light"
     },
     "output_type": "display_data"
    }
   ],
   "source": [
    "## Heatmap for the above shown confusion matrix\n",
    "sns.heatmap(pd.DataFrame(confusion_matrix(y_train,prediction_feature_valid)),annot=True,fmt=\"g\", cmap='viridis')"
   ]
  },
  {
   "cell_type": "code",
   "execution_count": 34,
   "metadata": {},
   "outputs": [
    {
     "name": "stdout",
     "output_type": "stream",
     "text": [
      "37.38\n",
      "[[24216 60301]\n",
      " [45596 39007]]\n"
     ]
    }
   ],
   "source": [
    "gmm_acc, gmm_prediction = GMM_def(feature_selected_x_train, 2)\n",
    "print(gmm_acc)\n",
    "print(confusion_matrix(y_train,gmm_prediction))"
   ]
  },
  {
   "cell_type": "code",
   "execution_count": 35,
   "metadata": {},
   "outputs": [
    {
     "data": {
      "text/plain": [
       "array([4.53637001e-01, 4.52833580e-01, 2.53185989e-02, 2.11695743e-02,\n",
       "       1.72866630e-02, 1.70991060e-02, 8.63562050e-03, 2.25822555e-03,\n",
       "       7.55885884e-04, 7.54830655e-04, 6.28805168e-05, 6.27306479e-05,\n",
       "       6.27289199e-05, 6.25741909e-05])"
      ]
     },
     "execution_count": 35,
     "metadata": {},
     "output_type": "execute_result"
    }
   ],
   "source": [
    "# PCA \n",
    "pca = PCA()\n",
    "pca_X_train = pca.fit_transform(scal_x_train)\n",
    "pca_X_test = pca.transform(scal_x_test)\n",
    "explained_variance = pca.explained_variance_ratio_\n",
    "explained_variance"
   ]
  },
  {
   "cell_type": "code",
   "execution_count": 36,
   "metadata": {},
   "outputs": [
    {
     "name": "stdout",
     "output_type": "stream",
     "text": [
      "Number of components =  1 **** Variance covered =  45.36 %\n",
      "Number of components =  2 **** Variance covered =  90.65 %\n",
      "Number of components =  3 **** Variance covered =  93.18 %\n",
      "Number of components =  4 **** Variance covered =  95.3 %\n",
      "Number of components =  5 **** Variance covered =  97.02 %\n",
      "Number of components =  6 **** Variance covered =  98.73 %\n",
      "Number of components =  7 **** Variance covered =  99.6 %\n",
      "Number of components =  8 **** Variance covered =  99.82 %\n",
      "Number of components =  9 **** Variance covered =  99.9 %\n",
      "Number of components =  10 **** Variance covered =  99.97 %\n",
      "Number of components =  11 **** Variance covered =  99.98 %\n",
      "Number of components =  12 **** Variance covered =  99.99 %\n",
      "Number of components =  13 **** Variance covered =  99.99 %\n",
      "Number of components =  14 **** Variance covered =  100.0 %\n",
      "Number of components =  15 **** Variance covered =  100.0 %\n",
      "Number of components =  16 **** Variance covered =  100.0 %\n",
      "Number of components =  17 **** Variance covered =  100.0 %\n",
      "Number of components =  18 **** Variance covered =  100.0 %\n",
      "Number of components =  19 **** Variance covered =  100.0 %\n",
      "Number of components =  20 **** Variance covered =  100.0 %\n",
      "Number of components =  21 **** Variance covered =  100.0 %\n",
      "Number of components =  22 **** Variance covered =  100.0 %\n",
      "Number of components =  23 **** Variance covered =  100.0 %\n",
      "Number of components =  24 **** Variance covered =  100.0 %\n",
      "Number of components =  25 **** Variance covered =  100.0 %\n",
      "Number of components =  26 **** Variance covered =  100.0 %\n",
      "Number of components =  27 **** Variance covered =  100.0 %\n",
      "Number of components =  28 **** Variance covered =  100.0 %\n",
      "Number of components =  29 **** Variance covered =  100.0 %\n"
     ]
    }
   ],
   "source": [
    "# Printing the variance in different number of components\n",
    "for i in range(1,30):\n",
    "    print('Number of components = ',  i ,'**** Variance covered = ', round(explained_variance[0:i].sum()*100, 2),'%')"
   ]
  },
  {
   "cell_type": "code",
   "execution_count": 37,
   "metadata": {},
   "outputs": [
    {
     "data": {
      "text/plain": [
       "<matplotlib.legend.Legend at 0x1b7df908248>"
      ]
     },
     "execution_count": 37,
     "metadata": {},
     "output_type": "execute_result"
    },
    {
     "data": {
      "image/png": "[encoded data removed]",
      "text/plain": [
       "<Figure size 720x504 with 1 Axes>"
      ]
     },
     "metadata": {
      "needs_background": "light"
     },
     "output_type": "display_data"
    }
   ],
   "source": [
    "kmeans_plot = KMeans(n_clusters=2,random_state=50)\n",
    "pca_2 = PCA(n_components=2)\n",
    "x_ = pca_2.fit_transform(x_train)\n",
    "kmeans_plot.fit(x_train)\n",
    "y_kmeans_2 = kmeans_plot.fit_predict(x_train)\n",
    "acc= round(100*accuracy_score(y_train,y_kmeans_2),2)\n",
    "\n",
    "# Visualising the clusters\n",
    "plt.figure(figsize=(10,7))\n",
    "plt.scatter(x_[y_kmeans_2 == 0, 0], x_[y_kmeans_2 == 0, 1], s = 10, c = 'blue', label = 'Large')\n",
    "plt.scatter(x_[y_kmeans_2 == 1, 0], x_[y_kmeans_2 == 1, 1], s = 10, c = 'red', label = 'Small')\n",
    "plt.title(\"Clusters After Feature Transformation into 2 PCA units | Accuracy = {}%\".format(acc))\n",
    "plt.xlabel(\"PCA Component 1\")\n",
    "plt.ylabel(\"PCA Component 2\")\n",
    "plt.legend()"
   ]
  },
  {
   "cell_type": "code",
   "execution_count": 38,
   "metadata": {},
   "outputs": [],
   "source": [
    "pca = PCA(n_components=2)\n",
    "pca_x_train = pca.fit_transform(scal_x_train)\n",
    "pca_x_test = pca.transform(scal_x_test)"
   ]
  },
  {
   "cell_type": "code",
   "execution_count": 39,
   "metadata": {},
   "outputs": [
    {
     "name": "stdout",
     "output_type": "stream",
     "text": [
      "69.83502838221382\n",
      "69.86203090507726\n"
     ]
    }
   ],
   "source": [
    "model_pca = KMeans(n_clusters=2, random_state=50)\n",
    "model_pca.fit(pca_x_train)\n",
    "\n",
    "# VALIDATION\n",
    "prediction_pca_valid = model_pca.predict(pca_x_train)\n",
    "valid_pca = accuracy_score(y_train, prediction_pca_valid)\n",
    "print(accuracy_score(y_train, prediction_pca_valid)*100)\n",
    "\n",
    "# TEST RESULTS\n",
    "prediction_pca_test = model_pca.predict(pca_x_test)\n",
    "test_pca = accuracy_score(y_test, prediction_pca_test)\n",
    "print(accuracy_score(y_test, prediction_pca_test)*100)"
   ]
  },
  {
   "cell_type": "code",
   "execution_count": 40,
   "metadata": {},
   "outputs": [
    {
     "name": "stdout",
     "output_type": "stream",
     "text": [
      "[[66266 18251]\n",
      " [32764 51839]]\n"
     ]
    }
   ],
   "source": [
    "print(confusion_matrix(y_train,prediction_pca_valid))"
   ]
  },
  {
   "cell_type": "code",
   "execution_count": 41,
   "metadata": {},
   "outputs": [
    {
     "data": {
      "text/plain": [
       "<matplotlib.axes._subplots.AxesSubplot at 0x1b7e3df3248>"
      ]
     },
     "execution_count": 41,
     "metadata": {},
     "output_type": "execute_result"
    },
    {
     "data": {
      "image/png": "[encoded data removed]",
      "text/plain": [
       "<Figure size 432x288 with 2 Axes>"
      ]
     },
     "metadata": {
      "needs_background": "light"
     },
     "output_type": "display_data"
    }
   ],
   "source": [
    "## Heatmap for the above shown confusion matrix\n",
    "sns.heatmap(pd.DataFrame(confusion_matrix(y_train,prediction_pca_valid)),annot=True,fmt=\"g\", cmap='viridis')"
   ]
  },
  {
   "cell_type": "code",
   "execution_count": 42,
   "metadata": {},
   "outputs": [
    {
     "name": "stdout",
     "output_type": "stream",
     "text": [
      "37.38\n"
     ]
    }
   ],
   "source": [
    "gmm_acc, gmm_prediction = GMM_def(pca_x_train, 2)\n",
    "print(gmm_acc)"
   ]
  },
  {
   "cell_type": "code",
   "execution_count": 43,
   "metadata": {},
   "outputs": [
    {
     "name": "stdout",
     "output_type": "stream",
     "text": [
      "[[24216 60301]\n",
      " [45596 39007]]\n"
     ]
    }
   ],
   "source": [
    "print(confusion_matrix(y_train,gmm_prediction))"
   ]
  },
  {
   "cell_type": "code",
   "execution_count": 44,
   "metadata": {},
   "outputs": [
    {
     "data": {
      "text/plain": [
       "<matplotlib.axes._subplots.AxesSubplot at 0x1b7e3f589c8>"
      ]
     },
     "execution_count": 44,
     "metadata": {},
     "output_type": "execute_result"
    },
    {
     "data": {
      "image/png": "[encoded data removed]",
      "text/plain": [
       "<Figure size 432x288 with 2 Axes>"
      ]
     },
     "metadata": {
      "needs_background": "light"
     },
     "output_type": "display_data"
    }
   ],
   "source": [
    "## Heatmap for the above shown confusion matrix\n",
    "sns.heatmap(pd.DataFrame(confusion_matrix(y_train,gmm_prediction)),annot=True,fmt=\"g\", cmap='viridis')"
   ]
  },
  {
   "cell_type": "code",
   "execution_count": 45,
   "metadata": {},
   "outputs": [
    {
     "data": {
      "image/png": "[encoded data removed]",
      "text/plain": [
       "<Figure size 1008x720 with 1 Axes>"
      ]
     },
     "metadata": {
      "needs_background": "light"
     },
     "output_type": "display_data"
    }
   ],
   "source": [
    " ## Running K-Means for few times and observing its behaviour ##\n",
    "acc_k = []\n",
    "for i in range(1,5):\n",
    "\n",
    "    kmeans_multi = KMeans(n_clusters=2,random_state=50)\n",
    "    kmeans_multi.fit(pca_x_train)\n",
    "\n",
    "    predictions_multi = kmeans_multi.predict(pca_x_train)\n",
    "    acc1= round(100*accuracy_score(y_train,predictions_multi),2)\n",
    "    acc_k.append(acc1)\n",
    "    \n",
    "plt.figure(figsize=(14,10))\n",
    "plt.plot(acc_k)\n",
    "plt.ylabel(\"Accuracy\")\n",
    "plt.title(\"Running K means 10 times to see the observations of K-Means\")\n",
    "plt.xlabel(\"Number of Times K-Means execution\")\n",
    "plt.ylim(0,100)\n",
    "plt.show()"
   ]
  },
  {
   "cell_type": "code",
   "execution_count": 46,
   "metadata": {},
   "outputs": [
    {
     "name": "stderr",
     "output_type": "stream",
     "text": [
      "C:\\Users\\PRAKASH CHANDRA\\Anaconda3\\lib\\site-packages\\sklearn\\decomposition\\fastica_.py:303: UserWarning: n_components is too large: it will be set to 14\n",
      "  warnings.warn('n_components is too large: it will be set to %s' % n_components)\n",
      "C:\\Users\\PRAKASH CHANDRA\\Anaconda3\\lib\\site-packages\\sklearn\\decomposition\\fastica_.py:303: UserWarning: n_components is too large: it will be set to 14\n",
      "  warnings.warn('n_components is too large: it will be set to %s' % n_components)\n",
      "C:\\Users\\PRAKASH CHANDRA\\Anaconda3\\lib\\site-packages\\sklearn\\decomposition\\fastica_.py:303: UserWarning: n_components is too large: it will be set to 14\n",
      "  warnings.warn('n_components is too large: it will be set to %s' % n_components)\n",
      "C:\\Users\\PRAKASH CHANDRA\\Anaconda3\\lib\\site-packages\\sklearn\\decomposition\\fastica_.py:303: UserWarning: n_components is too large: it will be set to 14\n",
      "  warnings.warn('n_components is too large: it will be set to %s' % n_components)\n",
      "C:\\Users\\PRAKASH CHANDRA\\Anaconda3\\lib\\site-packages\\sklearn\\decomposition\\fastica_.py:119: ConvergenceWarning: FastICA did not converge. Consider increasing tolerance or the maximum number of iterations.\n",
      "  ConvergenceWarning)\n",
      "C:\\Users\\PRAKASH CHANDRA\\Anaconda3\\lib\\site-packages\\sklearn\\decomposition\\fastica_.py:303: UserWarning: n_components is too large: it will be set to 14\n",
      "  warnings.warn('n_components is too large: it will be set to %s' % n_components)\n",
      "C:\\Users\\PRAKASH CHANDRA\\Anaconda3\\lib\\site-packages\\sklearn\\decomposition\\fastica_.py:303: UserWarning: n_components is too large: it will be set to 14\n",
      "  warnings.warn('n_components is too large: it will be set to %s' % n_components)\n",
      "C:\\Users\\PRAKASH CHANDRA\\Anaconda3\\lib\\site-packages\\sklearn\\decomposition\\fastica_.py:303: UserWarning: n_components is too large: it will be set to 14\n",
      "  warnings.warn('n_components is too large: it will be set to %s' % n_components)\n",
      "C:\\Users\\PRAKASH CHANDRA\\Anaconda3\\lib\\site-packages\\sklearn\\decomposition\\fastica_.py:303: UserWarning: n_components is too large: it will be set to 14\n",
      "  warnings.warn('n_components is too large: it will be set to %s' % n_components)\n",
      "C:\\Users\\PRAKASH CHANDRA\\Anaconda3\\lib\\site-packages\\sklearn\\decomposition\\fastica_.py:119: ConvergenceWarning: FastICA did not converge. Consider increasing tolerance or the maximum number of iterations.\n",
      "  ConvergenceWarning)\n",
      "C:\\Users\\PRAKASH CHANDRA\\Anaconda3\\lib\\site-packages\\sklearn\\decomposition\\fastica_.py:303: UserWarning: n_components is too large: it will be set to 14\n",
      "  warnings.warn('n_components is too large: it will be set to %s' % n_components)\n",
      "C:\\Users\\PRAKASH CHANDRA\\Anaconda3\\lib\\site-packages\\sklearn\\decomposition\\fastica_.py:303: UserWarning: n_components is too large: it will be set to 14\n",
      "  warnings.warn('n_components is too large: it will be set to %s' % n_components)\n",
      "C:\\Users\\PRAKASH CHANDRA\\Anaconda3\\lib\\site-packages\\sklearn\\decomposition\\fastica_.py:303: UserWarning: n_components is too large: it will be set to 14\n",
      "  warnings.warn('n_components is too large: it will be set to %s' % n_components)\n",
      "C:\\Users\\PRAKASH CHANDRA\\Anaconda3\\lib\\site-packages\\sklearn\\decomposition\\fastica_.py:303: UserWarning: n_components is too large: it will be set to 14\n",
      "  warnings.warn('n_components is too large: it will be set to %s' % n_components)\n",
      "C:\\Users\\PRAKASH CHANDRA\\Anaconda3\\lib\\site-packages\\sklearn\\decomposition\\fastica_.py:303: UserWarning: n_components is too large: it will be set to 14\n",
      "  warnings.warn('n_components is too large: it will be set to %s' % n_components)\n",
      "C:\\Users\\PRAKASH CHANDRA\\Anaconda3\\lib\\site-packages\\sklearn\\decomposition\\fastica_.py:303: UserWarning: n_components is too large: it will be set to 14\n",
      "  warnings.warn('n_components is too large: it will be set to %s' % n_components)\n",
      "C:\\Users\\PRAKASH CHANDRA\\Anaconda3\\lib\\site-packages\\sklearn\\decomposition\\fastica_.py:303: UserWarning: n_components is too large: it will be set to 14\n",
      "  warnings.warn('n_components is too large: it will be set to %s' % n_components)\n",
      "C:\\Users\\PRAKASH CHANDRA\\Anaconda3\\lib\\site-packages\\sklearn\\decomposition\\fastica_.py:303: UserWarning: n_components is too large: it will be set to 14\n",
      "  warnings.warn('n_components is too large: it will be set to %s' % n_components)\n",
      "C:\\Users\\PRAKASH CHANDRA\\Anaconda3\\lib\\site-packages\\sklearn\\decomposition\\fastica_.py:303: UserWarning: n_components is too large: it will be set to 14\n",
      "  warnings.warn('n_components is too large: it will be set to %s' % n_components)\n",
      "C:\\Users\\PRAKASH CHANDRA\\Anaconda3\\lib\\site-packages\\sklearn\\decomposition\\fastica_.py:303: UserWarning: n_components is too large: it will be set to 14\n",
      "  warnings.warn('n_components is too large: it will be set to %s' % n_components)\n",
      "C:\\Users\\PRAKASH CHANDRA\\Anaconda3\\lib\\site-packages\\sklearn\\decomposition\\fastica_.py:303: UserWarning: n_components is too large: it will be set to 14\n",
      "  warnings.warn('n_components is too large: it will be set to %s' % n_components)\n",
      "C:\\Users\\PRAKASH CHANDRA\\Anaconda3\\lib\\site-packages\\sklearn\\decomposition\\fastica_.py:303: UserWarning: n_components is too large: it will be set to 14\n",
      "  warnings.warn('n_components is too large: it will be set to %s' % n_components)\n",
      "C:\\Users\\PRAKASH CHANDRA\\Anaconda3\\lib\\site-packages\\sklearn\\decomposition\\fastica_.py:303: UserWarning: n_components is too large: it will be set to 14\n",
      "  warnings.warn('n_components is too large: it will be set to %s' % n_components)\n",
      "C:\\Users\\PRAKASH CHANDRA\\Anaconda3\\lib\\site-packages\\sklearn\\decomposition\\fastica_.py:119: ConvergenceWarning: FastICA did not converge. Consider increasing tolerance or the maximum number of iterations.\n",
      "  ConvergenceWarning)\n",
      "C:\\Users\\PRAKASH CHANDRA\\Anaconda3\\lib\\site-packages\\sklearn\\decomposition\\fastica_.py:303: UserWarning: n_components is too large: it will be set to 14\n",
      "  warnings.warn('n_components is too large: it will be set to %s' % n_components)\n",
      "C:\\Users\\PRAKASH CHANDRA\\Anaconda3\\lib\\site-packages\\sklearn\\decomposition\\fastica_.py:303: UserWarning: n_components is too large: it will be set to 14\n",
      "  warnings.warn('n_components is too large: it will be set to %s' % n_components)\n",
      "C:\\Users\\PRAKASH CHANDRA\\Anaconda3\\lib\\site-packages\\sklearn\\decomposition\\fastica_.py:303: UserWarning: n_components is too large: it will be set to 14\n",
      "  warnings.warn('n_components is too large: it will be set to %s' % n_components)\n",
      "C:\\Users\\PRAKASH CHANDRA\\Anaconda3\\lib\\site-packages\\sklearn\\decomposition\\fastica_.py:303: UserWarning: n_components is too large: it will be set to 14\n",
      "  warnings.warn('n_components is too large: it will be set to %s' % n_components)\n",
      "C:\\Users\\PRAKASH CHANDRA\\Anaconda3\\lib\\site-packages\\sklearn\\decomposition\\fastica_.py:303: UserWarning: n_components is too large: it will be set to 14\n",
      "  warnings.warn('n_components is too large: it will be set to %s' % n_components)\n",
      "C:\\Users\\PRAKASH CHANDRA\\Anaconda3\\lib\\site-packages\\sklearn\\decomposition\\fastica_.py:303: UserWarning: n_components is too large: it will be set to 14\n",
      "  warnings.warn('n_components is too large: it will be set to %s' % n_components)\n",
      "C:\\Users\\PRAKASH CHANDRA\\Anaconda3\\lib\\site-packages\\sklearn\\decomposition\\fastica_.py:303: UserWarning: n_components is too large: it will be set to 14\n",
      "  warnings.warn('n_components is too large: it will be set to %s' % n_components)\n",
      "C:\\Users\\PRAKASH CHANDRA\\Anaconda3\\lib\\site-packages\\sklearn\\decomposition\\fastica_.py:303: UserWarning: n_components is too large: it will be set to 14\n",
      "  warnings.warn('n_components is too large: it will be set to %s' % n_components)\n",
      "C:\\Users\\PRAKASH CHANDRA\\Anaconda3\\lib\\site-packages\\sklearn\\decomposition\\fastica_.py:303: UserWarning: n_components is too large: it will be set to 14\n",
      "  warnings.warn('n_components is too large: it will be set to %s' % n_components)\n",
      "C:\\Users\\PRAKASH CHANDRA\\Anaconda3\\lib\\site-packages\\sklearn\\decomposition\\fastica_.py:303: UserWarning: n_components is too large: it will be set to 14\n",
      "  warnings.warn('n_components is too large: it will be set to %s' % n_components)\n",
      "C:\\Users\\PRAKASH CHANDRA\\Anaconda3\\lib\\site-packages\\sklearn\\decomposition\\fastica_.py:303: UserWarning: n_components is too large: it will be set to 14\n",
      "  warnings.warn('n_components is too large: it will be set to %s' % n_components)\n"
     ]
    },
    {
     "name": "stderr",
     "output_type": "stream",
     "text": [
      "C:\\Users\\PRAKASH CHANDRA\\Anaconda3\\lib\\site-packages\\sklearn\\decomposition\\fastica_.py:303: UserWarning: n_components is too large: it will be set to 14\n",
      "  warnings.warn('n_components is too large: it will be set to %s' % n_components)\n",
      "C:\\Users\\PRAKASH CHANDRA\\Anaconda3\\lib\\site-packages\\sklearn\\decomposition\\fastica_.py:303: UserWarning: n_components is too large: it will be set to 14\n",
      "  warnings.warn('n_components is too large: it will be set to %s' % n_components)\n",
      "C:\\Users\\PRAKASH CHANDRA\\Anaconda3\\lib\\site-packages\\sklearn\\decomposition\\fastica_.py:303: UserWarning: n_components is too large: it will be set to 14\n",
      "  warnings.warn('n_components is too large: it will be set to %s' % n_components)\n"
     ]
    }
   ],
   "source": [
    "## ICA ##\n",
    "acc = []\n",
    "for i in range(1,50):\n",
    "    \n",
    "    ica = FastICA(n_components=i)\n",
    "    ica_x_train = ica.fit_transform(scal_x_train)\n",
    "    kmeans_ica = KMeans(n_clusters=2, random_state=50)\n",
    "    kmeans_ica.fit(ica_x_train)\n",
    "\n",
    "    predictions_ica = kmeans_ica.predict(ica_x_train)\n",
    "    acc_ica= round(100*accuracy_score(y_train,predictions_ica),2)\n",
    "    acc.append(acc_ica)"
   ]
  },
  {
   "cell_type": "code",
   "execution_count": 47,
   "metadata": {},
   "outputs": [
    {
     "data": {
      "image/png": "[encoded data removed]",
      "text/plain": [
       "<Figure size 1008x720 with 1 Axes>"
      ]
     },
     "metadata": {
      "needs_background": "light"
     },
     "output_type": "display_data"
    }
   ],
   "source": [
    "plt.figure(figsize=(14,10))\n",
    "plt.plot(range(1,50),acc)\n",
    "plt.ylabel(\"Accuracy\")\n",
    "plt.ylim(0,100)\n",
    "plt.xlabel(\"Number of Independent Components\")\n",
    "plt.title(\"Independent Components Vs Accuracy\")\n",
    "plt.show()"
   ]
  },
  {
   "cell_type": "code",
   "execution_count": 48,
   "metadata": {},
   "outputs": [],
   "source": [
    "ica = FastICA(n_components=6)\n",
    "\n",
    "ica_x_train = pd.DataFrame(ica.fit_transform(scal_x_train))\n",
    "ica_x_test = pd.DataFrame(ica.transform(scal_x_test))"
   ]
  },
  {
   "cell_type": "code",
   "execution_count": 49,
   "metadata": {},
   "outputs": [
    {
     "name": "stdout",
     "output_type": "stream",
     "text": [
      "51.04836802270577\n",
      "51.08719646799117\n"
     ]
    }
   ],
   "source": [
    "model_ica = KMeans(n_clusters=2, random_state=50)\n",
    "model_ica.fit(ica_x_train)\n",
    "\n",
    "# VALIDATION\n",
    "prediction_ica_valid = model_ica.predict(ica_x_train)\n",
    "valid_ica = accuracy_score(y_train, prediction_ica_valid)\n",
    "print(accuracy_score(y_train, prediction_ica_valid)*100)\n",
    "\n",
    "# TEST RESULTS\n",
    "prediction_ica_test = model_ica.predict(ica_x_test)\n",
    "test_ica = accuracy_score(y_test, prediction_ica_test)\n",
    "print(accuracy_score(y_test, prediction_ica_test)*100)"
   ]
  },
  {
   "cell_type": "code",
   "execution_count": 50,
   "metadata": {},
   "outputs": [
    {
     "name": "stdout",
     "output_type": "stream",
     "text": [
      "[[51219 33298]\n",
      " [49489 35114]]\n"
     ]
    }
   ],
   "source": [
    "print(confusion_matrix(y_train,prediction_ica_valid))"
   ]
  },
  {
   "cell_type": "code",
   "execution_count": 51,
   "metadata": {},
   "outputs": [
    {
     "data": {
      "text/plain": [
       "<matplotlib.axes._subplots.AxesSubplot at 0x1b7e5fc0188>"
      ]
     },
     "execution_count": 51,
     "metadata": {},
     "output_type": "execute_result"
    },
    {
     "data": {
      "image/png": "[encoded data removed]",
      "text/plain": [
       "<Figure size 432x288 with 2 Axes>"
      ]
     },
     "metadata": {
      "needs_background": "light"
     },
     "output_type": "display_data"
    }
   ],
   "source": [
    "## Heatmap for the above shown confusion matrix\n",
    "sns.heatmap(pd.DataFrame(confusion_matrix(y_train,prediction_ica_valid)),annot=True,fmt=\"g\", cmap='viridis')"
   ]
  },
  {
   "cell_type": "code",
   "execution_count": 52,
   "metadata": {},
   "outputs": [
    {
     "name": "stdout",
     "output_type": "stream",
     "text": [
      "49.77\n"
     ]
    }
   ],
   "source": [
    "ica_acc, gmm_prediction = GMM_def(ica_x_train,2)\n",
    "print(ica_acc)"
   ]
  },
  {
   "cell_type": "code",
   "execution_count": 53,
   "metadata": {},
   "outputs": [
    {
     "name": "stdout",
     "output_type": "stream",
     "text": [
      "[[62089 22428]\n",
      " [62525 22078]]\n"
     ]
    }
   ],
   "source": [
    "print(confusion_matrix(y_train,gmm_prediction))"
   ]
  },
  {
   "cell_type": "code",
   "execution_count": 54,
   "metadata": {},
   "outputs": [
    {
     "data": {
      "text/plain": [
       "<matplotlib.axes._subplots.AxesSubplot at 0x1b7e9105888>"
      ]
     },
     "execution_count": 54,
     "metadata": {},
     "output_type": "execute_result"
    },
    {
     "data": {
      "image/png": "[encoded data removed]",
      "text/plain": [
       "<Figure size 432x288 with 2 Axes>"
      ]
     },
     "metadata": {
      "needs_background": "light"
     },
     "output_type": "display_data"
    }
   ],
   "source": [
    "## Heatmap for the above shown confusion matrix\n",
    "sns.heatmap(pd.DataFrame(confusion_matrix(y_train,prediction_ica_valid)),annot=True,fmt=\"g\", cmap='viridis')"
   ]
  },
  {
   "cell_type": "code",
   "execution_count": 55,
   "metadata": {},
   "outputs": [
    {
     "name": "stderr",
     "output_type": "stream",
     "text": [
      "C:\\Users\\PRAKASH CHANDRA\\Anaconda3\\lib\\site-packages\\sklearn\\random_projection.py:376: DataDimensionalityWarning: The number of components is higher than the number of features: n_features < n_components (14 < 15).The dimensionality of the problem will not be reduced.\n",
      "  DataDimensionalityWarning)\n",
      "C:\\Users\\PRAKASH CHANDRA\\Anaconda3\\lib\\site-packages\\sklearn\\random_projection.py:376: DataDimensionalityWarning: The number of components is higher than the number of features: n_features < n_components (14 < 16).The dimensionality of the problem will not be reduced.\n",
      "  DataDimensionalityWarning)\n",
      "C:\\Users\\PRAKASH CHANDRA\\Anaconda3\\lib\\site-packages\\sklearn\\random_projection.py:376: DataDimensionalityWarning: The number of components is higher than the number of features: n_features < n_components (14 < 17).The dimensionality of the problem will not be reduced.\n",
      "  DataDimensionalityWarning)\n",
      "C:\\Users\\PRAKASH CHANDRA\\Anaconda3\\lib\\site-packages\\sklearn\\random_projection.py:376: DataDimensionalityWarning: The number of components is higher than the number of features: n_features < n_components (14 < 18).The dimensionality of the problem will not be reduced.\n",
      "  DataDimensionalityWarning)\n",
      "C:\\Users\\PRAKASH CHANDRA\\Anaconda3\\lib\\site-packages\\sklearn\\random_projection.py:376: DataDimensionalityWarning: The number of components is higher than the number of features: n_features < n_components (14 < 19).The dimensionality of the problem will not be reduced.\n",
      "  DataDimensionalityWarning)\n",
      "C:\\Users\\PRAKASH CHANDRA\\Anaconda3\\lib\\site-packages\\sklearn\\random_projection.py:376: DataDimensionalityWarning: The number of components is higher than the number of features: n_features < n_components (14 < 20).The dimensionality of the problem will not be reduced.\n",
      "  DataDimensionalityWarning)\n",
      "C:\\Users\\PRAKASH CHANDRA\\Anaconda3\\lib\\site-packages\\sklearn\\random_projection.py:376: DataDimensionalityWarning: The number of components is higher than the number of features: n_features < n_components (14 < 21).The dimensionality of the problem will not be reduced.\n",
      "  DataDimensionalityWarning)\n",
      "C:\\Users\\PRAKASH CHANDRA\\Anaconda3\\lib\\site-packages\\sklearn\\random_projection.py:376: DataDimensionalityWarning: The number of components is higher than the number of features: n_features < n_components (14 < 22).The dimensionality of the problem will not be reduced.\n",
      "  DataDimensionalityWarning)\n",
      "C:\\Users\\PRAKASH CHANDRA\\Anaconda3\\lib\\site-packages\\sklearn\\random_projection.py:376: DataDimensionalityWarning: The number of components is higher than the number of features: n_features < n_components (14 < 23).The dimensionality of the problem will not be reduced.\n",
      "  DataDimensionalityWarning)\n",
      "C:\\Users\\PRAKASH CHANDRA\\Anaconda3\\lib\\site-packages\\sklearn\\random_projection.py:376: DataDimensionalityWarning: The number of components is higher than the number of features: n_features < n_components (14 < 24).The dimensionality of the problem will not be reduced.\n",
      "  DataDimensionalityWarning)\n",
      "C:\\Users\\PRAKASH CHANDRA\\Anaconda3\\lib\\site-packages\\sklearn\\random_projection.py:376: DataDimensionalityWarning: The number of components is higher than the number of features: n_features < n_components (14 < 25).The dimensionality of the problem will not be reduced.\n",
      "  DataDimensionalityWarning)\n",
      "C:\\Users\\PRAKASH CHANDRA\\Anaconda3\\lib\\site-packages\\sklearn\\random_projection.py:376: DataDimensionalityWarning: The number of components is higher than the number of features: n_features < n_components (14 < 26).The dimensionality of the problem will not be reduced.\n",
      "  DataDimensionalityWarning)\n",
      "C:\\Users\\PRAKASH CHANDRA\\Anaconda3\\lib\\site-packages\\sklearn\\random_projection.py:376: DataDimensionalityWarning: The number of components is higher than the number of features: n_features < n_components (14 < 27).The dimensionality of the problem will not be reduced.\n",
      "  DataDimensionalityWarning)\n",
      "C:\\Users\\PRAKASH CHANDRA\\Anaconda3\\lib\\site-packages\\sklearn\\random_projection.py:376: DataDimensionalityWarning: The number of components is higher than the number of features: n_features < n_components (14 < 28).The dimensionality of the problem will not be reduced.\n",
      "  DataDimensionalityWarning)\n",
      "C:\\Users\\PRAKASH CHANDRA\\Anaconda3\\lib\\site-packages\\sklearn\\random_projection.py:376: DataDimensionalityWarning: The number of components is higher than the number of features: n_features < n_components (14 < 29).The dimensionality of the problem will not be reduced.\n",
      "  DataDimensionalityWarning)\n",
      "C:\\Users\\PRAKASH CHANDRA\\Anaconda3\\lib\\site-packages\\sklearn\\random_projection.py:376: DataDimensionalityWarning: The number of components is higher than the number of features: n_features < n_components (14 < 30).The dimensionality of the problem will not be reduced.\n",
      "  DataDimensionalityWarning)\n",
      "C:\\Users\\PRAKASH CHANDRA\\Anaconda3\\lib\\site-packages\\sklearn\\random_projection.py:376: DataDimensionalityWarning: The number of components is higher than the number of features: n_features < n_components (14 < 31).The dimensionality of the problem will not be reduced.\n",
      "  DataDimensionalityWarning)\n",
      "C:\\Users\\PRAKASH CHANDRA\\Anaconda3\\lib\\site-packages\\sklearn\\random_projection.py:376: DataDimensionalityWarning: The number of components is higher than the number of features: n_features < n_components (14 < 32).The dimensionality of the problem will not be reduced.\n",
      "  DataDimensionalityWarning)\n",
      "C:\\Users\\PRAKASH CHANDRA\\Anaconda3\\lib\\site-packages\\sklearn\\random_projection.py:376: DataDimensionalityWarning: The number of components is higher than the number of features: n_features < n_components (14 < 33).The dimensionality of the problem will not be reduced.\n",
      "  DataDimensionalityWarning)\n",
      "C:\\Users\\PRAKASH CHANDRA\\Anaconda3\\lib\\site-packages\\sklearn\\random_projection.py:376: DataDimensionalityWarning: The number of components is higher than the number of features: n_features < n_components (14 < 34).The dimensionality of the problem will not be reduced.\n",
      "  DataDimensionalityWarning)\n",
      "C:\\Users\\PRAKASH CHANDRA\\Anaconda3\\lib\\site-packages\\sklearn\\random_projection.py:376: DataDimensionalityWarning: The number of components is higher than the number of features: n_features < n_components (14 < 35).The dimensionality of the problem will not be reduced.\n",
      "  DataDimensionalityWarning)\n",
      "C:\\Users\\PRAKASH CHANDRA\\Anaconda3\\lib\\site-packages\\sklearn\\random_projection.py:376: DataDimensionalityWarning: The number of components is higher than the number of features: n_features < n_components (14 < 36).The dimensionality of the problem will not be reduced.\n",
      "  DataDimensionalityWarning)\n",
      "C:\\Users\\PRAKASH CHANDRA\\Anaconda3\\lib\\site-packages\\sklearn\\random_projection.py:376: DataDimensionalityWarning: The number of components is higher than the number of features: n_features < n_components (14 < 37).The dimensionality of the problem will not be reduced.\n",
      "  DataDimensionalityWarning)\n",
      "C:\\Users\\PRAKASH CHANDRA\\Anaconda3\\lib\\site-packages\\sklearn\\random_projection.py:376: DataDimensionalityWarning: The number of components is higher than the number of features: n_features < n_components (14 < 38).The dimensionality of the problem will not be reduced.\n",
      "  DataDimensionalityWarning)\n",
      "C:\\Users\\PRAKASH CHANDRA\\Anaconda3\\lib\\site-packages\\sklearn\\random_projection.py:376: DataDimensionalityWarning: The number of components is higher than the number of features: n_features < n_components (14 < 39).The dimensionality of the problem will not be reduced.\n",
      "  DataDimensionalityWarning)\n",
      "C:\\Users\\PRAKASH CHANDRA\\Anaconda3\\lib\\site-packages\\sklearn\\random_projection.py:376: DataDimensionalityWarning: The number of components is higher than the number of features: n_features < n_components (14 < 40).The dimensionality of the problem will not be reduced.\n",
      "  DataDimensionalityWarning)\n",
      "C:\\Users\\PRAKASH CHANDRA\\Anaconda3\\lib\\site-packages\\sklearn\\random_projection.py:376: DataDimensionalityWarning: The number of components is higher than the number of features: n_features < n_components (14 < 41).The dimensionality of the problem will not be reduced.\n",
      "  DataDimensionalityWarning)\n",
      "C:\\Users\\PRAKASH CHANDRA\\Anaconda3\\lib\\site-packages\\sklearn\\random_projection.py:376: DataDimensionalityWarning: The number of components is higher than the number of features: n_features < n_components (14 < 42).The dimensionality of the problem will not be reduced.\n",
      "  DataDimensionalityWarning)\n"
     ]
    },
    {
     "name": "stderr",
     "output_type": "stream",
     "text": [
      "C:\\Users\\PRAKASH CHANDRA\\Anaconda3\\lib\\site-packages\\sklearn\\random_projection.py:376: DataDimensionalityWarning: The number of components is higher than the number of features: n_features < n_components (14 < 43).The dimensionality of the problem will not be reduced.\n",
      "  DataDimensionalityWarning)\n",
      "C:\\Users\\PRAKASH CHANDRA\\Anaconda3\\lib\\site-packages\\sklearn\\random_projection.py:376: DataDimensionalityWarning: The number of components is higher than the number of features: n_features < n_components (14 < 44).The dimensionality of the problem will not be reduced.\n",
      "  DataDimensionalityWarning)\n",
      "C:\\Users\\PRAKASH CHANDRA\\Anaconda3\\lib\\site-packages\\sklearn\\random_projection.py:376: DataDimensionalityWarning: The number of components is higher than the number of features: n_features < n_components (14 < 45).The dimensionality of the problem will not be reduced.\n",
      "  DataDimensionalityWarning)\n",
      "C:\\Users\\PRAKASH CHANDRA\\Anaconda3\\lib\\site-packages\\sklearn\\random_projection.py:376: DataDimensionalityWarning: The number of components is higher than the number of features: n_features < n_components (14 < 46).The dimensionality of the problem will not be reduced.\n",
      "  DataDimensionalityWarning)\n",
      "C:\\Users\\PRAKASH CHANDRA\\Anaconda3\\lib\\site-packages\\sklearn\\random_projection.py:376: DataDimensionalityWarning: The number of components is higher than the number of features: n_features < n_components (14 < 47).The dimensionality of the problem will not be reduced.\n",
      "  DataDimensionalityWarning)\n",
      "C:\\Users\\PRAKASH CHANDRA\\Anaconda3\\lib\\site-packages\\sklearn\\random_projection.py:376: DataDimensionalityWarning: The number of components is higher than the number of features: n_features < n_components (14 < 48).The dimensionality of the problem will not be reduced.\n",
      "  DataDimensionalityWarning)\n",
      "C:\\Users\\PRAKASH CHANDRA\\Anaconda3\\lib\\site-packages\\sklearn\\random_projection.py:376: DataDimensionalityWarning: The number of components is higher than the number of features: n_features < n_components (14 < 49).The dimensionality of the problem will not be reduced.\n",
      "  DataDimensionalityWarning)\n"
     ]
    }
   ],
   "source": [
    "## RANDOMIZED PROJECTIONS ##\n",
    "acc = []\n",
    "for i in range(1,50):\n",
    "    \n",
    "    rca = GaussianRandomProjection(n_components=i, random_state=50)\n",
    "    rca_x_train = rca.fit_transform(scal_x_train)\n",
    "    kmeans_rca = KMeans(n_clusters=2, random_state=50)\n",
    "    kmeans_rca.fit(rca_x_train)\n",
    "\n",
    "    predictions_rca = kmeans_rca.predict(rca_x_train) \n",
    "    acc_rca= round(100*accuracy_score(y_train,predictions_rca),2)\n",
    "    acc.append(acc_rca)"
   ]
  },
  {
   "cell_type": "code",
   "execution_count": 56,
   "metadata": {},
   "outputs": [
    {
     "data": {
      "image/png": "[encoded data removed]",
      "text/plain": [
       "<Figure size 1008x720 with 1 Axes>"
      ]
     },
     "metadata": {
      "needs_background": "light"
     },
     "output_type": "display_data"
    }
   ],
   "source": [
    "plt.figure(figsize=(14,10))\n",
    "plt.plot(range(1,50),acc)\n",
    "plt.ylabel(\"Accuracy\")\n",
    "plt.ylim(0,100)\n",
    "plt.xlabel(\"Number of RCA Components\")\n",
    "plt.title(\"RCA Vs Accuracy\")\n",
    "plt.show()"
   ]
  },
  {
   "cell_type": "code",
   "execution_count": 57,
   "metadata": {},
   "outputs": [],
   "source": [
    "rca = GaussianRandomProjection(n_components=5)\n",
    "\n",
    "rca_x_train = pd.DataFrame(rca.fit_transform(scal_x_train))\n",
    "rca_x_test = pd.DataFrame(rca.transform(scal_x_test))"
   ]
  },
  {
   "cell_type": "code",
   "execution_count": 58,
   "metadata": {},
   "outputs": [
    {
     "name": "stdout",
     "output_type": "stream",
     "text": [
      "69.83502838221382\n",
      "69.86203090507726\n"
     ]
    }
   ],
   "source": [
    "model_rca = KMeans(n_clusters=2, random_state=50)\n",
    "model_rca.fit(rca_x_train)\n",
    "\n",
    "# VALIDATION\n",
    "prediction_rca_valid = model_rca.predict(rca_x_train)\n",
    "valid_rca = accuracy_score(y_train, prediction_rca_valid)\n",
    "print(accuracy_score(y_train, prediction_rca_valid)*100)\n",
    "\n",
    "# TEST RESULTS\n",
    "prediction_rca_test = model_rca.predict(rca_x_test)\n",
    "test_rca = accuracy_score(y_test, prediction_rca_test)\n",
    "print(accuracy_score(y_test, prediction_rca_test)*100)"
   ]
  },
  {
   "cell_type": "code",
   "execution_count": 59,
   "metadata": {},
   "outputs": [
    {
     "name": "stdout",
     "output_type": "stream",
     "text": [
      "[[66266 18251]\n",
      " [32764 51839]]\n"
     ]
    }
   ],
   "source": [
    "print(confusion_matrix(y_train,prediction_rca_valid))"
   ]
  },
  {
   "cell_type": "code",
   "execution_count": 60,
   "metadata": {},
   "outputs": [
    {
     "data": {
      "text/plain": [
       "<matplotlib.axes._subplots.AxesSubplot at 0x1b780038e48>"
      ]
     },
     "execution_count": 60,
     "metadata": {},
     "output_type": "execute_result"
    },
    {
     "data": {
      "image/png": "[encoded data removed]",
      "text/plain": [
       "<Figure size 432x288 with 2 Axes>"
      ]
     },
     "metadata": {
      "needs_background": "light"
     },
     "output_type": "display_data"
    }
   ],
   "source": [
    "## Heatmap for the above shown confusion matrix\n",
    "sns.heatmap(pd.DataFrame(confusion_matrix(y_train,prediction_rca_valid)),annot=True,fmt=\"g\", cmap='viridis')"
   ]
  },
  {
   "cell_type": "code",
   "execution_count": 61,
   "metadata": {},
   "outputs": [
    {
     "name": "stdout",
     "output_type": "stream",
     "text": [
      "69.83\n",
      "[[66277 18240]\n",
      " [32786 51817]]\n"
     ]
    }
   ],
   "source": [
    "rca_acc, rca_prediction = GMM_def(rca_x_train,2)\n",
    "print(rca_acc)\n",
    "print(confusion_matrix(y_train,rca_prediction))"
   ]
  },
  {
   "cell_type": "code",
   "execution_count": 62,
   "metadata": {},
   "outputs": [
    {
     "data": {
      "text/plain": [
       "<matplotlib.axes._subplots.AxesSubplot at 0x1b78059dfc8>"
      ]
     },
     "execution_count": 62,
     "metadata": {},
     "output_type": "execute_result"
    },
    {
     "data": {
      "image/png": "[encoded data removed]",
      "text/plain": [
       "<Figure size 432x288 with 2 Axes>"
      ]
     },
     "metadata": {
      "needs_background": "light"
     },
     "output_type": "display_data"
    }
   ],
   "source": [
    "# Heatmap for the above shown confusion matrix\n",
    "sns.heatmap(pd.DataFrame(confusion_matrix(y_train,rca_prediction)),annot=True,fmt=\"g\", cmap='viridis')"
   ]
  },
  {
   "cell_type": "code",
   "execution_count": 73,
   "metadata": {},
   "outputs": [],
   "source": [
    "validation_scores_kmeans = [69.83, 69.83, 51.04, 69.83]\n",
    "validation_scores_gmm = [37.38, 37.38, 49.77, 69.83]"
   ]
  },
  {
   "cell_type": "code",
   "execution_count": 74,
   "metadata": {},
   "outputs": [
    {
     "data": {
      "image/png": "[encoded data removed]",
      "text/plain": [
       "<Figure size 1008x720 with 1 Axes>"
      ]
     },
     "metadata": {
      "needs_background": "light"
     },
     "output_type": "display_data"
    }
   ],
   "source": [
    "plt.figure(figsize=(14,10))\n",
    "plt.xlabel(\"Models\")\n",
    "plt.ylabel(\"Accuracy\")\n",
    "Models =['Feature Scaling','PCA','ICA','RCA']\n",
    "plt.bar(Models,validation_scores_kmeans,label='K Means', width = 0.5)\n",
    "plt.bar(Models,validation_scores_gmm,label='GMM', width = 0.25)\n",
    "plt.legend(loc='lower right')\n",
    "plt.title(\"Train and Test Accuracy for various Models\")\n",
    "plt.show()"
   ]
  },
  {
   "cell_type": "code",
   "execution_count": 65,
   "metadata": {},
   "outputs": [],
   "source": [
    "pca_x_train = np.asarray(pca_x_train)\n",
    "y_train= np.asarray(y_train)\n",
    "pca_x_test = np.asarray(pca_x_test)\n",
    "y_test = np.asarray(y_test)"
   ]
  },
  {
   "cell_type": "code",
   "execution_count": 66,
   "metadata": {},
   "outputs": [
    {
     "name": "stdout",
     "output_type": "stream",
     "text": [
      "Train on 169120 samples, validate on 72480 samples\n",
      "Epoch 1/15\n",
      "169120/169120 [==============================] - 54s 316us/sample - loss: 0.5788 - accuracy: 0.7142 - val_loss: 0.5585 - val_accuracy: 0.7194\n",
      "Epoch 2/15\n",
      "169120/169120 [==============================] - 54s 320us/sample - loss: 0.5462 - accuracy: 0.7230 - val_loss: 0.5467 - val_accuracy: 0.7249\n",
      "Epoch 3/15\n",
      "169120/169120 [==============================] - 55s 323us/sample - loss: 0.5426 - accuracy: 0.7251 - val_loss: 0.5396 - val_accuracy: 0.7252\n",
      "Epoch 4/15\n",
      "169120/169120 [==============================] - 49s 289us/sample - loss: 0.5378 - accuracy: 0.7301 - val_loss: 0.5355 - val_accuracy: 0.7364\n",
      "Epoch 5/15\n",
      "169120/169120 [==============================] - 51s 304us/sample - loss: 0.5351 - accuracy: 0.7322 - val_loss: 0.5362 - val_accuracy: 0.7333\n",
      "Epoch 6/15\n",
      "169120/169120 [==============================] - 49s 287us/sample - loss: 0.5339 - accuracy: 0.7318 - val_loss: 0.5310 - val_accuracy: 0.7326\n",
      "Epoch 7/15\n",
      "169120/169120 [==============================] - 52s 306us/sample - loss: 0.5330 - accuracy: 0.7336 - val_loss: 0.5326 - val_accuracy: 0.7336\n",
      "Epoch 8/15\n",
      "169120/169120 [==============================] - 53s 314us/sample - loss: 0.5330 - accuracy: 0.7331 - val_loss: 0.5406 - val_accuracy: 0.7257\n",
      "Epoch 9/15\n",
      "169120/169120 [==============================] - 53s 313us/sample - loss: 0.5320 - accuracy: 0.7322 - val_loss: 0.5324 - val_accuracy: 0.7348\n",
      "Epoch 10/15\n",
      "169120/169120 [==============================] - 53s 312us/sample - loss: 0.5312 - accuracy: 0.7335 - val_loss: 0.5337 - val_accuracy: 0.7343\n",
      "Epoch 11/15\n",
      "169120/169120 [==============================] - 52s 308us/sample - loss: 0.5299 - accuracy: 0.7334 - val_loss: 0.5349 - val_accuracy: 0.7337\n",
      "Epoch 12/15\n",
      "169120/169120 [==============================] - 50s 295us/sample - loss: 0.5292 - accuracy: 0.7347 - val_loss: 0.5298 - val_accuracy: 0.7399\n",
      "Epoch 13/15\n",
      "169120/169120 [==============================] - 47s 280us/sample - loss: 0.5285 - accuracy: 0.7354 - val_loss: 0.5306 - val_accuracy: 0.7245\n",
      "Epoch 14/15\n",
      "169120/169120 [==============================] - 48s 284us/sample - loss: 0.5278 - accuracy: 0.7359 - val_loss: 0.5280 - val_accuracy: 0.7394\n",
      "Epoch 15/15\n",
      "169120/169120 [==============================] - 52s 308us/sample - loss: 0.5278 - accuracy: 0.7354 - val_loss: 0.5261 - val_accuracy: 0.7367\n"
     ]
    }
   ],
   "source": [
    "## Neural Network ##\n",
    "classifier = Sequential()\n",
    "classifier.add(Dense(12, activation= 'relu', input_dim =2))\n",
    "classifier.add(Dense(15, activation= 'relu'))\n",
    "classifier.add(Dense(1, activation= 'sigmoid'))\n",
    "classifier.compile(optimizer= 'adam',loss='binary_crossentropy', metrics=['accuracy'])\n",
    "classfit = classifier.fit(pca_x_train, y_train, batch_size = 10, epochs = 15, validation_data=(pca_x_test,y_test))"
   ]
  },
  {
   "cell_type": "code",
   "execution_count": 67,
   "metadata": {},
   "outputs": [
    {
     "name": "stdout",
     "output_type": "stream",
     "text": [
      "73.67135761589404\n"
     ]
    },
    {
     "data": {
      "text/plain": [
       "array([[29172,  7112],\n",
       "       [11971, 24225]], dtype=int64)"
      ]
     },
     "execution_count": 67,
     "metadata": {},
     "output_type": "execute_result"
    }
   ],
   "source": [
    "y_pred_relu = classifier.predict(pca_x_test)\n",
    "y_pred_relu = y_pred_relu > 0.5\n",
    "print(accuracy_score(y_test,y_pred_relu)*100)\n",
    "confusion_matrix(y_test,y_pred_relu)"
   ]
  },
  {
   "cell_type": "code",
   "execution_count": 68,
   "metadata": {},
   "outputs": [
    {
     "data": {
      "image/png": "[encoded data removed]",
      "text/plain": [
       "<Figure size 1008x720 with 1 Axes>"
      ]
     },
     "metadata": {
      "needs_background": "light"
     },
     "output_type": "display_data"
    }
   ],
   "source": [
    "plt.figure(figsize=(14,10))\n",
    "plt.ylabel('Accuracy', fontsize=16)\n",
    "plt.xlabel('Epochs', fontsize=16)\n",
    "plt.title(\"Accuracy vs Epoch\")\n",
    "plt.plot(classfit.history['accuracy'], 'b', label='Training Accuracy')\n",
    "plt.plot(classfit.history['val_accuracy'], 'r', label='Validation Accuracy')\n",
    "plt.legend(loc='lower right')\n",
    "plt.show()"
   ]
  },
  {
   "cell_type": "code",
   "execution_count": 69,
   "metadata": {},
   "outputs": [
    {
     "data": {
      "text/html": [
       "<div>\n",
       "<style scoped>\n",
       "    .dataframe tbody tr th:only-of-type {\n",
       "        vertical-align: middle;\n",
       "    }\n",
       "\n",
       "    .dataframe tbody tr th {\n",
       "        vertical-align: top;\n",
       "    }\n",
       "\n",
       "    .dataframe thead th {\n",
       "        text-align: right;\n",
       "    }\n",
       "</style>\n",
       "<table border=\"1\" class=\"dataframe\">\n",
       "  <thead>\n",
       "    <tr style=\"text-align: right;\">\n",
       "      <th></th>\n",
       "      <th>KM_Pred</th>\n",
       "      <th>EM_Prob</th>\n",
       "      <th>ActualOutput</th>\n",
       "    </tr>\n",
       "  </thead>\n",
       "  <tbody>\n",
       "    <tr>\n",
       "      <td>0</td>\n",
       "      <td>1</td>\n",
       "      <td>1.000000e+00</td>\n",
       "      <td>0.0</td>\n",
       "    </tr>\n",
       "    <tr>\n",
       "      <td>1</td>\n",
       "      <td>0</td>\n",
       "      <td>5.990654e-09</td>\n",
       "      <td>1.0</td>\n",
       "    </tr>\n",
       "    <tr>\n",
       "      <td>2</td>\n",
       "      <td>0</td>\n",
       "      <td>1.573707e-09</td>\n",
       "      <td>1.0</td>\n",
       "    </tr>\n",
       "    <tr>\n",
       "      <td>3</td>\n",
       "      <td>0</td>\n",
       "      <td>8.850033e-10</td>\n",
       "      <td>1.0</td>\n",
       "    </tr>\n",
       "    <tr>\n",
       "      <td>4</td>\n",
       "      <td>1</td>\n",
       "      <td>1.000000e+00</td>\n",
       "      <td>0.0</td>\n",
       "    </tr>\n",
       "  </tbody>\n",
       "</table>\n",
       "</div>"
      ],
      "text/plain": [
       "   KM_Pred       EM_Prob  ActualOutput\n",
       "0        1  1.000000e+00           0.0\n",
       "1        0  5.990654e-09           1.0\n",
       "2        0  1.573707e-09           1.0\n",
       "3        0  8.850033e-10           1.0\n",
       "4        1  1.000000e+00           0.0"
      ]
     },
     "execution_count": 69,
     "metadata": {},
     "output_type": "execute_result"
    }
   ],
   "source": [
    "new_main = pd.DataFrame()\n",
    "main1 = pd.DataFrame({\"KM_Pred\": predictions,\"EM_Prob\": probability[:,1],\"ActualOutput\": y_train})\n",
    "new_main = new_main.append(main1)\n",
    "\n",
    "new_main.head()"
   ]
  },
  {
   "cell_type": "code",
   "execution_count": 70,
   "metadata": {},
   "outputs": [],
   "source": [
    "x_train_clust = new_main.iloc[:, 0:2]\n",
    "y_clust = new_main.iloc[:, 2:]"
   ]
  },
  {
   "cell_type": "code",
   "execution_count": 71,
   "metadata": {},
   "outputs": [
    {
     "name": "stdout",
     "output_type": "stream",
     "text": [
      "WARNING:tensorflow:The `nb_epoch` argument in `fit` has been renamed `epochs`.\n",
      "WARNING:tensorflow:Falling back from v2 loop because of error: Failed to find data adapter that can handle input: <class 'pandas.core.frame.DataFrame'>, <class 'NoneType'>\n",
      "Train on 169120 samples\n",
      "Epoch 1/10\n",
      "169120/169120 [==============================] - 34s 201us/sample - loss: 0.5681 - accuracy: 0.6970\n",
      "Epoch 2/10\n",
      "169120/169120 [==============================] - 33s 197us/sample - loss: 0.5644 - accuracy: 0.6980\n",
      "Epoch 3/10\n",
      "169120/169120 [==============================] - 31s 183us/sample - loss: 0.5644 - accuracy: 0.6981\n",
      "Epoch 4/10\n",
      "169120/169120 [==============================] - 36s 210us/sample - loss: 0.5642 - accuracy: 0.6981\n",
      "Epoch 5/10\n",
      "169120/169120 [==============================] - 38s 225us/sample - loss: 0.5642 - accuracy: 0.6981\n",
      "Epoch 6/10\n",
      "169120/169120 [==============================] - 38s 223us/sample - loss: 0.5641 - accuracy: 0.6980\n",
      "Epoch 7/10\n",
      "169120/169120 [==============================] - 38s 225us/sample - loss: 0.5642 - accuracy: 0.6981\n",
      "Epoch 8/10\n",
      "169120/169120 [==============================] - 38s 225us/sample - loss: 0.5640 - accuracy: 0.6981\n",
      "Epoch 9/10\n",
      "169120/169120 [==============================] - 37s 220us/sample - loss: 0.5640 - accuracy: 0.6982\n",
      "Epoch 10/10\n",
      "169120/169120 [==============================] - 37s 221us/sample - loss: 0.5641 - accuracy: 0.6981\n"
     ]
    },
    {
     "data": {
      "text/plain": [
       "<tensorflow.python.keras.callbacks.History at 0x1b783fc0bc8>"
      ]
     },
     "execution_count": 71,
     "metadata": {},
     "output_type": "execute_result"
    }
   ],
   "source": [
    "NNclassifier = Sequential()\n",
    "NNclassifier.add(Dense(12, activation = 'relu', input_dim = 2))\n",
    "NNclassifier.add(Dense(15,  activation = 'relu'))\n",
    "NNclassifier.add(Dense(1,  activation = 'sigmoid'))\n",
    "NNclassifier.compile(optimizer = 'adam', loss = 'binary_crossentropy', metrics = ['accuracy'])\n",
    "NNclassifier.fit(x_train_clust, y_clust, batch_size = 10, nb_epoch = 10)"
   ]
  },
  {
   "cell_type": "code",
   "execution_count": 72,
   "metadata": {},
   "outputs": [
    {
     "name": "stdout",
     "output_type": "stream",
     "text": [
      "WARNING:tensorflow:Falling back from v2 loop because of error: Failed to find data adapter that can handle input: <class 'pandas.core.frame.DataFrame'>, <class 'NoneType'>\n",
      "69.83502838221382\n"
     ]
    },
    {
     "data": {
      "text/plain": [
       "array([[66266, 18251],\n",
       "       [32764, 51839]], dtype=int64)"
      ]
     },
     "execution_count": 72,
     "metadata": {},
     "output_type": "execute_result"
    }
   ],
   "source": [
    "y_pred_clust = NNclassifier.predict(x_train_clust)\n",
    "y_pred_clust = y_pred_clust > 0.5\n",
    "print(accuracy_score(y_clust,y_pred_clust)*100)\n",
    "confusion_matrix(y_clust,y_pred_clust)"
   ]
  }
 ],
 "metadata": {
  "kernelspec": {
   "display_name": "Python 3",
   "language": "python",
   "name": "python3"
  },
  "language_info": {
   "codemirror_mode": {
    "name": "ipython",
    "version": 3
   },
   "file_extension": ".py",
   "mimetype": "text/x-python",
   "name": "python",
   "nbconvert_exporter": "python",
   "pygments_lexer": "ipython3",
   "version": "3.7.6"
  }
 },
 "nbformat": 4,
 "nbformat_minor": 2
}
